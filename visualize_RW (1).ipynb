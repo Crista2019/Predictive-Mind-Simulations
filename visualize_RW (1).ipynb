{
 "cells": [
  {
   "cell_type": "code",
   "execution_count": 14,
   "id": "20d2db9f-82a9-4409-9613-7254023fe41c",
   "metadata": {},
   "outputs": [
    {
     "name": "stdout",
     "output_type": "stream",
     "text": [
      "0.19.0\n"
     ]
    }
   ],
   "source": [
    "import numpy as np\n",
    "import manim as mn\n",
    "from manim import *\n",
    "\n",
    "config.media_width = \"75%\"\n",
    "config.verbosity = \"WARNING\"\n",
    "\n",
    "print(mn.__version__)"
   ]
  },
  {
   "cell_type": "markdown",
   "id": "a8193bf7-180f-4178-903e-6e7441720513",
   "metadata": {},
   "source": [
    "# Rescorla Wagner Parameters"
   ]
  },
  {
   "cell_type": "markdown",
   "id": "fa7de8f8-751e-45e4-aa60-b5b507d46a70",
   "metadata": {},
   "source": [
    "## Key Equations\n",
    "### Associative strength update\n",
    "$\\Delta \\vec{S}= \\alpha\\cdot \\vec{c} (T-\\sum S)$\n",
    "### Prediction is the sum of cues times their associative strengths\n",
    "$S_t = \\vec{c^T}\\cdot \\vec{S}$\n",
    "<!-- ### Learning rate matrix - update gain times diagonal matrix of cue saliences \n",
    "$\\vec{A}=\\beta \\cdot \\text{diag}(\\alpha)$ -->\n",
    "### Update Rule\n",
    "$S_{t+1} = S_t + \\Delta S$"
   ]
  },
  {
   "cell_type": "markdown",
   "id": "bf6196e9-8e48-4c63-9436-2018a77dee0c",
   "metadata": {},
   "source": [
    "## Single Cue Example"
   ]
  },
  {
   "cell_type": "code",
   "execution_count": 2,
   "id": "46336577-7509-45ee-b54c-2050a55c1c4e",
   "metadata": {},
   "outputs": [],
   "source": [
    "# let's assume this is constant for the conditioned stimuli\n",
    "update_gain = 0.05\n",
    "# we start out with 0 associative strength for just one US\n",
    "S = np.zeros((1,1))\n",
    "# track trials\n",
    "s_log = []\n",
    "error_log = []\n",
    "trials = 500\n",
    "\n",
    "# for each trial we are exposed to 2 cues that make up our current state\n",
    "for i in range(trials):\n",
    "    # randomly generate cue - present (1) or absent (1)\n",
    "    cues = np.random.choice([1,0], size=(1,1), replace=True)\n",
    "    \n",
    "    # calculate predicted outcome -> will be a single value\n",
    "    prediction = np.dot(cues.T,S)\n",
    "\n",
    "    # target is predicted by CS\n",
    "    T = 1 if cues.flatten()[0] else 0\n",
    "    \n",
    "    # calculate prediction error\n",
    "    delta_S = update_gain*cues*(T-prediction)\n",
    "\n",
    "    S = S + delta_S\n",
    "    s_log.append(S.T.flatten().tolist())\n",
    "    error_log.append(((T-prediction)**2).flatten().item())"
   ]
  },
  {
   "cell_type": "markdown",
   "id": "ff3e4308-fe4e-4fe9-87e9-85621e184318",
   "metadata": {},
   "source": [
    "## Visualization - We see striaghtforward associative learning"
   ]
  },
  {
   "cell_type": "code",
   "execution_count": 10,
   "id": "ea0e7b48-8bca-4331-8b53-39167fca9fe3",
   "metadata": {},
   "outputs": [
    {
     "data": {
      "text/html": [
       "<pre style=\"white-space:pre;overflow-x:auto;line-height:normal;font-family:Menlo,'DejaVu Sans Mono',consolas,'Courier New',monospace\">Manim Community <span style=\"color: #008000; text-decoration-color: #008000\">v0.19.0</span>\n",
       "\n",
       "</pre>\n"
      ],
      "text/plain": [
       "Manim Community \u001b[32mv0.\u001b[0m\u001b[32m19.0\u001b[0m\n",
       "\n"
      ]
     },
     "metadata": {},
     "output_type": "display_data"
    },
    {
     "name": "stderr",
     "output_type": "stream",
     "text": [
      "                                                                                                                       "
     ]
    },
    {
     "data": {
      "text/html": [
       "<video src=\"media\\jupyter\\AnimateGraph@2025-09-15@17-27-41.mp4\" controls autoplay loop style=\"max-width: 75%;\"  >\n",
       "      Your browser does not support the <code>video</code> element.\n",
       "    </video>"
      ],
      "text/plain": [
       "<IPython.core.display.Video object>"
      ]
     },
     "metadata": {},
     "output_type": "display_data"
    }
   ],
   "source": [
    "%%manim -qm AnimateGraph\n",
    "\n",
    "class AnimateGraph(Scene):\n",
    "    def construct(self):\n",
    "        # Define the axes for the graph\n",
    "        axes = Axes(\n",
    "            x_range=[0, trials-1, 50],  # Min, Max, Step\n",
    "            y_range=[0, 1.25, 0.25],\n",
    "            axis_config={\"include_numbers\": True}\n",
    "        ).scale(.8)\n",
    "        # Add labels to the axes (optional)\n",
    "        x_label = axes.get_x_axis_label(\"t\")\n",
    "        y_label = axes.get_y_axis_label(\"S\")\n",
    "\n",
    "        self.add(axes, x_label, y_label)\n",
    "\n",
    "        # access the log from simulation\n",
    "        def cue1(x):\n",
    "            # this is the learned strength for cue 1\n",
    "            return s_log[int(x)][0]\n",
    "\n",
    "        def error(x):\n",
    "            return error_log[int(x)]\n",
    "           \n",
    "        # Create the graph mobject\n",
    "        graph1 = axes.plot(cue1, color=BLUE)\n",
    "        graph4 = axes.plot(error, color=WHITE)\n",
    "\n",
    "        # add text to describe cues\n",
    "        text1 = Text(\"Cue 1\", font_size=32, color=BLUE).next_to(graph1, LEFT, buff=0.75)\n",
    "        \n",
    "        # Animate the creation of the graph\n",
    "        self.play(Write(text1))\n",
    "        self.play(Create(graph1),run_time=5)\n",
    "        self.play(FadeOut(text1))\n",
    "        self.wait(1) \n",
    "\n",
    "        self.play(FadeOut(y_label, graph1, shift=LEFT, scale=0.5))\n",
    "\n",
    "        # make this disapear and plot the error\n",
    "        y_label = axes.get_y_axis_label(\"MS Error\")\n",
    "        self.add(y_label)\n",
    "        self.play(Create(graph4),run_time=5)\n",
    "        self.wait(1) "
   ]
  },
  {
   "cell_type": "markdown",
   "id": "159972fe-a7d4-442f-ba24-fc1abc823f60",
   "metadata": {},
   "source": [
    "## Multiple Cue Example - Cues 2 and 3 are predictive, 1 is not!"
   ]
  },
  {
   "cell_type": "code",
   "execution_count": 21,
   "id": "86540dfb-ae72-4021-b8de-fa06082df839",
   "metadata": {},
   "outputs": [],
   "source": [
    "# let's assume this is constant for the unconditioned stimuli\n",
    "update_gain = 0.05\n",
    "# we start out with 0 associative strength for all cues\n",
    "S = np.zeros((3,1))\n",
    "# track trials\n",
    "s_log = []\n",
    "error_log = []\n",
    "trials = 500\n",
    "\n",
    "# for each trial we are exposed to 2 cues that make up our current state\n",
    "for i in range(trials):\n",
    "    # randomly generate three cues - present (1) or absent (1)\n",
    "    # cues = np.array([[1 if thresh <=.35 else 0],[1 if thresh <=.3 else 0],[1 if thresh <=.25 else 0]])\n",
    "    cues = np.random.choice([1,0], size=(3,1), replace=True)\n",
    "    \n",
    "    # calculate predicted outcome -> will be a single value\n",
    "    prediction = np.dot(cues.T,S)\n",
    "\n",
    "    # target is predicted by cues 2 or 3\n",
    "    # T = np.random.choice([1,0], 1, p=[.9,.1] if cues.flatten()[1]+cues.flatten()[2]==2 else [.2,.8])\n",
    "    T = 1 if cues.flatten()[1] or cues.flatten()[2] else 0\n",
    "    \n",
    "    # calculate prediction error\n",
    "    delta_S = update_gain*cues*(T-prediction)\n",
    "\n",
    "    S = S + delta_S\n",
    "    s_log.append(S.T.flatten().tolist())\n",
    "    error_log.append(((T-prediction)**2).flatten().item())"
   ]
  },
  {
   "cell_type": "markdown",
   "id": "15ea6566-c0cc-4f30-8d46-98e8bbb841fe",
   "metadata": {},
   "source": [
    "## Visualization - learning occurs for cues 2 and 3, but 1 remains low associative strength due to lack of predictive power"
   ]
  },
  {
   "cell_type": "code",
   "execution_count": 16,
   "id": "b0982a73-7b2c-4566-8e81-eb35e0797fd1",
   "metadata": {},
   "outputs": [
    {
     "data": {
      "text/html": [
       "<pre style=\"white-space:pre;overflow-x:auto;line-height:normal;font-family:Menlo,'DejaVu Sans Mono',consolas,'Courier New',monospace\">Manim Community <span style=\"color: #008000; text-decoration-color: #008000\">v0.19.0</span>\n",
       "\n",
       "</pre>\n"
      ],
      "text/plain": [
       "Manim Community \u001b[32mv0.\u001b[0m\u001b[32m19.0\u001b[0m\n",
       "\n"
      ]
     },
     "metadata": {},
     "output_type": "display_data"
    },
    {
     "name": "stderr",
     "output_type": "stream",
     "text": [
      "                                                                                                                       "
     ]
    },
    {
     "data": {
      "text/html": [
       "<video src=\"media\\jupyter\\AnimateGraph@2025-09-15@17-29-13.mp4\" controls autoplay loop style=\"max-width: 75%;\"  >\n",
       "      Your browser does not support the <code>video</code> element.\n",
       "    </video>"
      ],
      "text/plain": [
       "<IPython.core.display.Video object>"
      ]
     },
     "metadata": {},
     "output_type": "display_data"
    }
   ],
   "source": [
    "%%manim -ql AnimateGraph\n",
    "\n",
    "class AnimateGraph(Scene):\n",
    "    def construct(self):\n",
    "        # Define the axes for the graph\n",
    "        axes = Axes(\n",
    "            x_range=[0, trials-1, 50],  # Min, Max, Step\n",
    "            y_range=[0, 1.25, 0.25],\n",
    "            axis_config={\"include_numbers\": True}\n",
    "        ).scale(.8)\n",
    "        # Add labels to the axes (optional)\n",
    "        x_label = axes.get_x_axis_label(\"t\")\n",
    "        y_label = axes.get_y_axis_label(\"S\")\n",
    "\n",
    "        self.add(axes, x_label, y_label)\n",
    "\n",
    "        # access the log from simulation\n",
    "        def cue1(x):\n",
    "            # this is the learned strength for cue 1\n",
    "            return s_log[int(x)][0]\n",
    "        def cue2(x):\n",
    "            return s_log[int(x)][1]\n",
    "        def cue3(x):\n",
    "            return s_log[int(x)][2]\n",
    "\n",
    "        def error(x):\n",
    "            return error_log[int(x)]\n",
    "           \n",
    "        # Create the graph mobject\n",
    "        graph1 = axes.plot(cue1, color=BLUE)\n",
    "        graph2 = axes.plot(cue2, color=RED)\n",
    "        graph3 = axes.plot(cue3, color=GREEN)\n",
    "        graph4 = axes.plot(error, color=WHITE)\n",
    "\n",
    "        # add text to describe cues\n",
    "        text1 = Text(\"Cue 1\", font_size=32, color=BLUE).next_to(graph1, LEFT, buff=0.75)\n",
    "        text2 = Text(\"Cue 2\", font_size=32, color=RED).next_to(graph2, LEFT, buff=0.75)\n",
    "        text3 = Text(\"Cue 3\", font_size=32, color=GREEN).next_to(graph3, LEFT, buff=0.75)\n",
    "        \n",
    "        # Animate the creation of the graph\n",
    "        self.play(Write(text1))\n",
    "        self.play(Create(graph1),run_time=5)\n",
    "        self.play(FadeOut(text1))\n",
    "        self.wait(1) \n",
    "        self.play(Write(text2))\n",
    "        self.play(Create(graph2),run_time=5)\n",
    "        self.play(FadeOut(text2))\n",
    "        self.wait(1) \n",
    "        self.play(Write(text3))\n",
    "        self.play(Create(graph3),run_time=5)\n",
    "        self.wait(1) \n",
    "\n",
    "        self.play(FadeOut(y_label, text3, graph1, graph2, graph3, shift=LEFT, scale=0.5))\n",
    "\n",
    "        # make this disapear and plot the error\n",
    "        y_label = axes.get_y_axis_label(\"MS Error\")\n",
    "        self.add(y_label)\n",
    "        self.play(Create(graph4),run_time=5)\n",
    "        self.wait(1) "
   ]
  },
  {
   "cell_type": "markdown",
   "id": "fd8b5e4d-b214-4a01-b26e-2924e1aa69b8",
   "metadata": {},
   "source": [
    "## Blocking Example\n",
    "\n",
    "Blocking (A trained alone, then A+B compound — we expect B to learn little)."
   ]
  },
  {
   "cell_type": "code",
   "execution_count": 17,
   "id": "b9ed074c-f2f2-4282-93bc-7f1f289c7803",
   "metadata": {},
   "outputs": [],
   "source": [
    "# let's assume this is constant for the unconditioned stimuli\n",
    "update_gain = 0.05\n",
    "# we start out with 0 associative strength for just 2 cues\n",
    "S = np.zeros((2,1))\n",
    "# track trials\n",
    "s_log = []\n",
    "error_log = []\n",
    "trials = 500\n",
    "additional_cue_t = 250\n",
    "\n",
    "# for each trial we are exposed to 2 cues that make up our current state\n",
    "for i in range(trials):\n",
    "    if i < additional_cue_t:\n",
    "        # Phase 1: only A present\n",
    "        cues = np.array([[1],[0]])\n",
    "    else:\n",
    "        # Phase 2: A and B always together\n",
    "        cues = np.array([[1],[1]])\n",
    "    \n",
    "    prediction = np.dot(cues.T, S)\n",
    "    T = 1  # US always present in both phases\n",
    "    delta_S = update_gain * cues * (T - prediction)\n",
    "    S = S + delta_S\n",
    "    s_log.append(S.T.flatten().tolist())\n",
    "    error_log.append(((T - prediction)**2).flatten().item())"
   ]
  },
  {
   "cell_type": "markdown",
   "id": "40f699ff-8644-43c8-a0ca-a344758dc224",
   "metadata": {},
   "source": [
    "## Viz - Because Cue 1 sufficiently explains the US, the addition of C2 doesn't change much"
   ]
  },
  {
   "cell_type": "code",
   "execution_count": 18,
   "id": "2ba896a0-3097-45c3-8b8f-6de997f718cf",
   "metadata": {},
   "outputs": [
    {
     "data": {
      "text/html": [
       "<pre style=\"white-space:pre;overflow-x:auto;line-height:normal;font-family:Menlo,'DejaVu Sans Mono',consolas,'Courier New',monospace\">Manim Community <span style=\"color: #008000; text-decoration-color: #008000\">v0.19.0</span>\n",
       "\n",
       "</pre>\n"
      ],
      "text/plain": [
       "Manim Community \u001b[32mv0.\u001b[0m\u001b[32m19.0\u001b[0m\n",
       "\n"
      ]
     },
     "metadata": {},
     "output_type": "display_data"
    },
    {
     "name": "stderr",
     "output_type": "stream",
     "text": [
      "                                                                                                                       "
     ]
    },
    {
     "data": {
      "text/html": [
       "<video src=\"media\\jupyter\\AnimateGraph@2025-09-15@17-29-51.mp4\" controls autoplay loop style=\"max-width: 75%;\"  >\n",
       "      Your browser does not support the <code>video</code> element.\n",
       "    </video>"
      ],
      "text/plain": [
       "<IPython.core.display.Video object>"
      ]
     },
     "metadata": {},
     "output_type": "display_data"
    }
   ],
   "source": [
    "%%manim -qm AnimateGraph\n",
    "\n",
    "class AnimateGraph(Scene):\n",
    "    def construct(self):\n",
    "        # Define the axes for the graph\n",
    "        axes = Axes(\n",
    "            x_range=[0, trials-1, 50],  # Min, Max, Step\n",
    "            y_range=[0, 1.25, 0.25],\n",
    "            axis_config={\"include_numbers\": True}\n",
    "        ).scale(.8)\n",
    "        # Add labels to the axes (optional)\n",
    "        x_label = axes.get_x_axis_label(\"t\")\n",
    "        y_label = axes.get_y_axis_label(\"S\")\n",
    "\n",
    "        self.add(axes, x_label, y_label)\n",
    "\n",
    "        # access the log from simulation\n",
    "        def cue1(x):\n",
    "            # this is the learned strength for cue 1\n",
    "            return s_log[int(x)][0]\n",
    "        def cue2(x):\n",
    "            return s_log[int(x)][1]\n",
    "\n",
    "        def error(x):\n",
    "            return error_log[int(x)]\n",
    "           \n",
    "        # Create the graph mobject\n",
    "        graph1 = axes.plot(cue1, color=BLUE)\n",
    "        graph2 = axes.plot(cue2, color=RED)\n",
    "        graph4 = axes.plot(error, color=WHITE)\n",
    "\n",
    "        # add text to describe cues\n",
    "        text1 = Text(\"Cue 1\", font_size=32, color=BLUE).next_to(graph1, LEFT, buff=0.75)\n",
    "        text2 = Text(\"Cue 2\", font_size=32, color=RED).next_to(graph2, LEFT, buff=0.75)\n",
    "        \n",
    "        # Animate the creation of the graph\n",
    "        self.play(Write(text1))\n",
    "        self.play(Create(graph1),run_time=5)\n",
    "        self.play(FadeOut(text1))\n",
    "        self.wait(1) \n",
    "        self.play(Write(text2))\n",
    "        self.play(Create(graph2),run_time=5)\n",
    "        self.play(FadeOut(text2))\n",
    "        self.wait(1) \n",
    "\n",
    "        self.play(FadeOut(y_label, graph1, graph2, shift=LEFT, scale=0.5))\n",
    "\n",
    "        # make this disapear and plot the error\n",
    "        y_label = axes.get_y_axis_label(\"MS Error\")\n",
    "        self.add(y_label)\n",
    "        self.play(Create(graph4),run_time=5)\n",
    "        self.wait(1) "
   ]
  },
  {
   "cell_type": "markdown",
   "id": "4608f037-d370-408d-82b9-a7cff0d25fd8",
   "metadata": {},
   "source": [
    "## Latent Inhibition Failure"
   ]
  },
  {
   "cell_type": "code",
   "execution_count": 19,
   "id": "74c4b804-d080-43f2-868d-388381584253",
   "metadata": {},
   "outputs": [],
   "source": [
    "update_gain = 0.05\n",
    "\n",
    "def run_latent_inhibition(pre_expose=False):\n",
    "    S = np.zeros((1,1))\n",
    "    s_log = []\n",
    "    error_log = []\n",
    "    trials_pre = 250\n",
    "    trials_acq = 250\n",
    "\n",
    "    # Phase 1: pre-exposure (CS alone, no US)\n",
    "    if pre_expose:\n",
    "        for _ in range(trials_pre):\n",
    "            cues = np.array([[1]])   # CS present\n",
    "            prediction = np.dot(cues.T, S)\n",
    "            T = 0                    # no US\n",
    "            delta_S = update_gain * cues * (T - prediction)\n",
    "            S = S + delta_S\n",
    "            s_log.append(S.item())\n",
    "            error_log.append(((T - prediction)**2).flatten().item())\n",
    "\n",
    "    else: \n",
    "        trials_acq = 500\n",
    "\n",
    "    # Phase 2: acquisition (CS + US)\n",
    "    for _ in range(trials_acq):\n",
    "        cues = np.array([[1]])\n",
    "        prediction = np.dot(cues.T, S)\n",
    "        T = 1                        # US always present\n",
    "        delta_S = update_gain * cues * (T - prediction)\n",
    "        S = S + delta_S\n",
    "        s_log.append(S.item())\n",
    "        error_log.append(((T - prediction)**2).flatten().item())\n",
    "\n",
    "    \n",
    "    return s_log, error_log\n",
    "\n",
    "no_pre_s, no_pre_e = run_latent_inhibition(pre_expose=False)\n",
    "with_pre_s, with_pre_e = run_latent_inhibition(pre_expose=True)\n"
   ]
  },
  {
   "cell_type": "markdown",
   "id": "19e45890-e083-4aed-b0ee-d5add31722e4",
   "metadata": {},
   "source": [
    "## Viz\n",
    "In real experiments, the pre-exposed group learns *slower* (latent inhibition)."
   ]
  },
  {
   "cell_type": "code",
   "execution_count": 20,
   "id": "13e6b7e7-83e6-4482-8b62-f63e9d261f73",
   "metadata": {},
   "outputs": [
    {
     "data": {
      "text/html": [
       "<pre style=\"white-space:pre;overflow-x:auto;line-height:normal;font-family:Menlo,'DejaVu Sans Mono',consolas,'Courier New',monospace\">Manim Community <span style=\"color: #008000; text-decoration-color: #008000\">v0.19.0</span>\n",
       "\n",
       "</pre>\n"
      ],
      "text/plain": [
       "Manim Community \u001b[32mv0.\u001b[0m\u001b[32m19.0\u001b[0m\n",
       "\n"
      ]
     },
     "metadata": {},
     "output_type": "display_data"
    },
    {
     "name": "stderr",
     "output_type": "stream",
     "text": [
      "                                                                                                                       "
     ]
    },
    {
     "data": {
      "text/html": [
       "<video src=\"media\\jupyter\\AnimateGraph@2025-09-15@17-31-30.mp4\" controls autoplay loop style=\"max-width: 75%;\"  >\n",
       "      Your browser does not support the <code>video</code> element.\n",
       "    </video>"
      ],
      "text/plain": [
       "<IPython.core.display.Video object>"
      ]
     },
     "metadata": {},
     "output_type": "display_data"
    }
   ],
   "source": [
    "%%manim -qm AnimateGraph\n",
    "\n",
    "class AnimateGraph(Scene):\n",
    "    def construct(self):\n",
    "        # Define the axes for the graph\n",
    "        axes = Axes(\n",
    "            x_range=[0, trials-1, 50],  # Min, Max, Step\n",
    "            y_range=[0, 1.25, 0.25],\n",
    "            axis_config={\"include_numbers\": True}\n",
    "        ).scale(.8)\n",
    "        # Add labels to the axes (optional)\n",
    "        x_label = axes.get_x_axis_label(\"t\")\n",
    "        y_label = axes.get_y_axis_label(\"S\")\n",
    "\n",
    "        self.add(axes, x_label, y_label)\n",
    "\n",
    "        # access the log from simulation\n",
    "        def cue1(x):\n",
    "            # this is the learned strength for cue 1\n",
    "            return no_pre_s[int(x)]\n",
    "        def cue2(x):\n",
    "            return with_pre_s[int(x)]\n",
    "           \n",
    "        # Create the graph mobject\n",
    "        graph1 = axes.plot(cue1, color=GRAY)\n",
    "        graph2 = axes.plot(cue2, color=WHITE)\n",
    "        \n",
    "        \n",
    "        # Animate the creation of the graph\n",
    "\n",
    "        title = Title(\"Control group (no pre-exposure)\", include_underline=False)\n",
    "        self.add(title)\n",
    "        \n",
    "        self.play(Create(graph1),run_time=5)\n",
    "        self.wait(1) \n",
    "\n",
    "        self.play(FadeOut(title))\n",
    "        title = Title(\"Pre-exposed group (latent inhibition group)\", include_underline=False)\n",
    "        \n",
    "        point = axes @ (250, 1)\n",
    "        dot = Dot(point)\n",
    "        phase2 = axes.get_vertical_line(point, line_func=Line, color=RED)\n",
    "        text1 = Text(\"Phase 1: pre-exposure \\n(CS alone, no US)\").next_to(title, DOWN).scale(0.5).shift([-2,0,0])\n",
    "        text2 = Text(\"Phase 2: acquisition \\n(CS + US)\").next_to(text1, RIGHT).scale(0.5).shift([-1,0,0])\n",
    "        \n",
    "        self.add(title)\n",
    "        self.wait(1) \n",
    "        self.play(Create(phase2))\n",
    "        self.wait(1) \n",
    "        self.play(Create(text1))\n",
    "        self.wait(1) \n",
    "        self.play(Create(text2))\n",
    "        self.wait(1)\n",
    "        self.play(Create(graph2),run_time=5)\n",
    "        self.wait(1) "
   ]
  },
  {
   "cell_type": "code",
   "execution_count": null,
   "id": "29bc28a1-cb59-4e17-b7a3-c5b08ea9d6c3",
   "metadata": {},
   "outputs": [],
   "source": []
  }
 ],
 "metadata": {
  "kernelspec": {
   "display_name": "Python 3 (ipykernel)",
   "language": "python",
   "name": "python3"
  },
  "language_info": {
   "codemirror_mode": {
    "name": "ipython",
    "version": 3
   },
   "file_extension": ".py",
   "mimetype": "text/x-python",
   "name": "python",
   "nbconvert_exporter": "python",
   "pygments_lexer": "ipython3",
   "version": "3.13.7"
  }
 },
 "nbformat": 4,
 "nbformat_minor": 5
}
